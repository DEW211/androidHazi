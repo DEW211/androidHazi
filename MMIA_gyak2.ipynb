{
  "nbformat": 4,
  "nbformat_minor": 0,
  "metadata": {
    "colab": {
      "provenance": [],
      "include_colab_link": true
    },
    "kernelspec": {
      "name": "python3",
      "display_name": "Python 3"
    },
    "language_info": {
      "name": "python"
    }
  },
  "cells": [
    {
      "cell_type": "markdown",
      "metadata": {
        "id": "view-in-github",
        "colab_type": "text"
      },
      "source": [
        "<a href=\"https://colab.research.google.com/github/DEW211/androidHazi/blob/master/MMIA_gyak2.ipynb\" target=\"_parent\"><img src=\"https://colab.research.google.com/assets/colab-badge.svg\" alt=\"Open In Colab\"/></a>"
      ]
    },
    {
      "cell_type": "code",
      "execution_count": null,
      "metadata": {
        "id": "8fyEZl-RQLc1"
      },
      "outputs": [],
      "source": [
        "try:\n",
        "  import numpy as np\n",
        "  import pandas as pd\n",
        "  from ydata_profiling import ProfileReport\n",
        "  from google.colab import files\n",
        "except:\n",
        "  !pip install ydata-profiling\n",
        "  !pip install -q kaggle\n",
        "  import numpy as np\n",
        "  import pandas as pd\n",
        "  from ydata_profiling import ProfileReport\n",
        "  from google.colab import files"
      ]
    },
    {
      "cell_type": "markdown",
      "source": [
        "# Task 1\n",
        "During the first task you will make an exploratory data analysis on a timeseries using the YDatat profiling [tool](https://docs.profiling.ydata.ai/latest/)\n",
        "### Downloading the first dataset\n"
      ],
      "metadata": {
        "id": "yEYHgywNarNf"
      }
    },
    {
      "cell_type": "markdown",
      "source": [
        "\n",
        "You will need to Register at [Kaggle](https://www.kaggle.com/) and [generate an api key](https://www.kaggle.com/discussions/general/74235), to upload it here.\\\n",
        "Have a look at the [decription](https://www.kaggle.com/datasets/garystafford/environmental-sensor-data-132k) of the dataset you will work with today\\\n",
        "You can always use another way to upload the data"
      ],
      "metadata": {
        "id": "qlUjcmIwZ7P_"
      }
    },
    {
      "cell_type": "code",
      "source": [
        "files.upload()\n",
        "! mkdir ~/.kaggle\n",
        "! cp kaggle.json ~/.kaggle/\n",
        "! chmod 600 ~/.kaggle/kaggle.json\n",
        "! kaggle datasets download 'garystafford/environmental-sensor-data-132k'\n",
        "! mk dir iotdata\n",
        "! unzip environmental-sensor-data-132k.zip -d iotdata"
      ],
      "metadata": {
        "id": "YhkqR2esSKKr"
      },
      "execution_count": null,
      "outputs": []
    },
    {
      "cell_type": "code",
      "source": [
        "iot_df = pd.read_csv('iotdata/iot_telemetry_data.csv')\n",
        "iot_df['ts']=pd.to_datetime(iot_df['ts'],unit='s')\n",
        "iot_df"
      ],
      "metadata": {
        "id": "tmwpD2kX75a8"
      },
      "execution_count": null,
      "outputs": []
    },
    {
      "cell_type": "markdown",
      "source": [
        "### Standard Profiling"
      ],
      "metadata": {
        "id": "rFbrqL3GfinT"
      }
    },
    {
      "cell_type": "code",
      "source": [
        "profile = ProfileReport(iot_df, title=\"IoT Report\")\n",
        "profile"
      ],
      "metadata": {
        "id": "nN6HYKNfS0Vr"
      },
      "execution_count": null,
      "outputs": []
    },
    {
      "cell_type": "markdown",
      "source": [
        "---\n",
        "# Questions\n",
        "- What kind of information can you read out from the overview section of the profiling?\n",
        " - What does the alerts section show you?\n",
        "- What statistics can you retrieve from the variables sections?\n",
        " - What additional information is shown when you hit the more details button\n",
        "- How does the smoke variable interacts with the CO variable?\n",
        " - Are there any interactions that seems to be worth further investigating?\n",
        "- Examine the correlation heatmap and it's relation to other sections of the report"
      ],
      "metadata": {
        "id": "lmTk2kIWcz1w"
      }
    },
    {
      "cell_type": "markdown",
      "source": [
        "*Your answers:*"
      ],
      "metadata": {
        "id": "5sAhFge3fW2Y"
      }
    },
    {
      "cell_type": "markdown",
      "source": [
        "---\n",
        "### Time series profiling\n",
        "\n",
        "This data set is too large for the ydata tool's timeseries profiling. The code below shows a way to reduce the size of the dataset before performing the profiling"
      ],
      "metadata": {
        "id": "h1xkncmLcbSj"
      }
    },
    {
      "cell_type": "code",
      "source": [
        "dev_df = iot_df[iot_df['device']=='00:0f:00:70:91:0a']\n",
        "dev_df = dev_df.drop(columns=['device'])\n",
        "dev_df = dev_df.sample(round(dev_df.shape[0]/10))\n",
        "type_shema = {'co':'timeseries', 'humidity':'timeseries', 'lpg':'timeseries', 'smoke':'timeseries', 'temp':'timeseries'}\n",
        "profile = ProfileReport(dev_df,tsmode=True,sortby='ts',type_schema=type_shema ,title=\"IoT Report\")\n",
        "profile"
      ],
      "metadata": {
        "id": "NA_a4oUdD8zI"
      },
      "execution_count": null,
      "outputs": []
    },
    {
      "cell_type": "markdown",
      "source": [
        "# Questions\n",
        "\n",
        "- Compare the two reports.\n",
        " - What are the main differences?\n",
        " - What do they have in common?\n",
        "- What subsection is new in the overview section?\n",
        "- What subsections are new in the variable section?"
      ],
      "metadata": {
        "id": "lU9utYV4ghDg"
      }
    },
    {
      "cell_type": "markdown",
      "source": [
        "*Your answers:*"
      ],
      "metadata": {
        "id": "4sgq_W9ChqT_"
      }
    },
    {
      "cell_type": "markdown",
      "source": [
        "### Dataset Comparison"
      ],
      "metadata": {
        "id": "mF6gJmPUGeZP"
      }
    },
    {
      "cell_type": "code",
      "source": [
        "#Your solution goes here"
      ],
      "metadata": {
        "id": "EBo-KlBLxh7g"
      },
      "execution_count": null,
      "outputs": []
    },
    {
      "cell_type": "markdown",
      "source": [
        "# Questions\n",
        "Based on the data from both devices:\n",
        "- What information can you find in regards of the properties of locations of the two device"
      ],
      "metadata": {
        "id": "EmBAigqYGnEO"
      }
    },
    {
      "cell_type": "markdown",
      "source": [
        "*Your answers:*"
      ],
      "metadata": {
        "id": "dtmV4pOeGtoR"
      }
    },
    {
      "cell_type": "markdown",
      "source": [
        "---\n",
        "# Task 2\n",
        "For this task, you will have upload a [dataset](https://dataverse.harvard.edu/dataset.xhtml?persistentId=doi:10.7910/DVN/N3HGRN) to your google drive, and load it to colab from there. \\\n",
        "\n",
        "Perform an analysis on the new dataset based on the previous task\n",
        "According to the data set metadata and the data included in the All_Residential file, select two of the houses and generate a comparison report using ydata-profiling [Dataset Comparison](https://docs.profiling.ydata.ai/4.5/features/comparing_datasets/) feature"
      ],
      "metadata": {
        "id": "jMjmbmTKh-Sw"
      }
    },
    {
      "cell_type": "markdown",
      "source": [
        "Set the MY_VAR variable to the directory, where you have uploaded the dataset to"
      ],
      "metadata": {
        "id": "6woVh131iqf-"
      }
    },
    {
      "cell_type": "code",
      "source": [
        "%env MY_VAR = BME"
      ],
      "metadata": {
        "id": "zTISlfXLiqX5"
      },
      "execution_count": null,
      "outputs": []
    },
    {
      "cell_type": "code",
      "source": [
        "from google.colab import drive\n",
        "drive.mount('/content/drive/')\n",
        "!mkdir PowerData\n",
        "!unzip drive/MyDrive/$MY_VAR/dataverse_files.zip -d PowerData\n",
        "drive.flush_and_unmount()"
      ],
      "metadata": {
        "id": "MTFqnl_7tU2h"
      },
      "execution_count": null,
      "outputs": []
    },
    {
      "cell_type": "markdown",
      "source": [
        "Perform the comparison profiling on the two power consumption data you have selected"
      ],
      "metadata": {
        "id": "jguH4ZK9kEPi"
      }
    },
    {
      "cell_type": "code",
      "source": [],
      "metadata": {
        "id": "BzRIXTLrkf5X"
      },
      "execution_count": null,
      "outputs": []
    },
    {
      "cell_type": "markdown",
      "source": [
        "*Conclusions:*"
      ],
      "metadata": {
        "id": "8chnA2Yrkg8g"
      }
    }
  ]
}